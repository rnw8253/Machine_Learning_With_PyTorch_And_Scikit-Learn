{
 "cells": [
  {
   "cell_type": "markdown",
   "id": "3f526ad2-c89f-4228-996a-faf18724b5ac",
   "metadata": {},
   "source": [
    "# Project 3: Clustering - Mall Customer Segmentation "
   ]
  },
  {
   "cell_type": "markdown",
   "id": "1af0d904-e174-43a9-b58f-d8ac3ecc64d5",
   "metadata": {},
   "source": [
    "## Dataset: "
   ]
  },
  {
   "cell_type": "markdown",
   "id": "fd9c87af-c313-4097-9698-43140f515cad",
   "metadata": {},
   "source": [
    "Mall Customer Segmentation Dataset (available from Kaggle)"
   ]
  },
  {
   "cell_type": "markdown",
   "id": "826acd65-daae-4369-a7c0-48238cc62980",
   "metadata": {},
   "source": [
    "## Analysis Goals:"
   ]
  },
  {
   "cell_type": "markdown",
   "id": "5fe529e3-c5af-4648-8b61-3c06b1ebfc06",
   "metadata": {},
   "source": [
    "1. Data Preprocessing:\n",
    "    - Handle missing values, if any, using appropriate techniques such as imputation or dropping.\n",
    "    - Normalize numerical features using StandardScaler or MinMaxScaler.\n",
    "\n",
    "2. Exploratory Data Analysis (EDA):\n",
    "    - Visualize feature distributions: Use histograms or box plots to understand the distribution of features like age, annual income, and spending score.\n",
    "    - Explore relationships between variables: Use scatter plots or pair plots to identify potential correlations or patterns.\n",
    "\n",
    "3. Feature Engineering:\n",
    "    - Identify relevant features: Select features such as age, annual income, and spending score for customer segmentation.\n",
    "\n",
    "4. Dimensionality Reduction:\n",
    "    - Apply PCA: Reduce the dimensionality of the feature space if there are many features.\n",
    "    - Visualize reduced dimensions: Use scatter plots or heatmaps to visualize the reduced dimensions and understand feature importance.\n",
    "\n",
    "5. Clustering:\n",
    "    - Algorithms: Use KMeans and DBSCAN for clustering.\n",
    "    - Determine the optimal number of clusters:\n",
    "        - Elbow method: Plot the sum of squared distances (inertia) against the number of clusters and identify the \"elbow\" point where the inertia starts decreasing at a slower rate.\n",
    "        - Silhouette score: Calculate the silhouette score for different numbers of clusters and choose the one with the highest score.\n",
    "\n",
    "6. Cluster Analysis:\n",
    "    - Analyze cluster characteristics:\n",
    "        - Centroids: For KMeans, analyze the centroid of each cluster to understand the cluster's characteristics.\n",
    "        - Cluster means: For both KMeans and DBSCAN, calculate the mean values of features within each cluster.\n",
    "    - Visualize clusters:\n",
    "        - Scatter plots: Visualize clusters in the reduced feature space to understand their distribution and separability.\n",
    "    - Heatmaps: Visualize the mean values of features within each cluster using heatmaps.\n",
    "\n",
    "7. Model Evaluation:\n",
    "    - Evaluate clustering performance:\n",
    "        - Silhouette score: Measure how similar an object is to its own cluster compared to other clusters. Higher silhouette scores indicate better-defined clusters.\n",
    "        - Davies–Bouldin index: Measure the average similarity between each cluster and its most similar cluster, where lower values indicate better clustering.\n",
    "    - Visualize clustering results:\n",
    "        - Scatter plots: Plot the data points colored by their assigned cluster labels to visualize the clustering results.\n",
    "        - Evaluate cluster separability and compactness."
   ]
  },
  {
   "cell_type": "markdown",
   "id": "484f996b-9a74-4c6d-bf79-3c5f3b2fa113",
   "metadata": {},
   "source": [
    "## Analysis"
   ]
  },
  {
   "cell_type": "markdown",
   "id": "bbc62694-0819-4d23-bf5e-31523660b112",
   "metadata": {},
   "source": [
    "### Load Data"
   ]
  },
  {
   "cell_type": "markdown",
   "id": "c7dfd6db-da9c-4375-ad33-284df0d4c093",
   "metadata": {},
   "source": [
    "| Column Name         | Description                                               |\n",
    "|---------------------|-----------------------------------------------------------|\n",
    "| CustomerID          | Unique ID assigned to the customer                        |\n",
    "| Gender              | Gender of the customer                                    |\n",
    "| Age                 | Age of the customer                                       |\n",
    "| Annual Income (k$) | Annual Income of the customer                             |\n",
    "| Spending Score      | Score assigned by the mall based on customer behavior and spending nature (1-100) |\n"
   ]
  },
  {
   "cell_type": "code",
   "execution_count": 1,
   "id": "33d4d6c4-be91-4b8a-975d-344279dc4030",
   "metadata": {},
   "outputs": [
    {
     "data": {
      "text/html": [
       "<div>\n",
       "<style scoped>\n",
       "    .dataframe tbody tr th:only-of-type {\n",
       "        vertical-align: middle;\n",
       "    }\n",
       "\n",
       "    .dataframe tbody tr th {\n",
       "        vertical-align: top;\n",
       "    }\n",
       "\n",
       "    .dataframe thead th {\n",
       "        text-align: right;\n",
       "    }\n",
       "</style>\n",
       "<table border=\"1\" class=\"dataframe\">\n",
       "  <thead>\n",
       "    <tr style=\"text-align: right;\">\n",
       "      <th></th>\n",
       "      <th>CustomerID</th>\n",
       "      <th>Gender</th>\n",
       "      <th>Age</th>\n",
       "      <th>Annual Income (k$)</th>\n",
       "      <th>Spending Score (1-100)</th>\n",
       "    </tr>\n",
       "  </thead>\n",
       "  <tbody>\n",
       "    <tr>\n",
       "      <th>0</th>\n",
       "      <td>1</td>\n",
       "      <td>Male</td>\n",
       "      <td>19</td>\n",
       "      <td>15</td>\n",
       "      <td>39</td>\n",
       "    </tr>\n",
       "    <tr>\n",
       "      <th>1</th>\n",
       "      <td>2</td>\n",
       "      <td>Male</td>\n",
       "      <td>21</td>\n",
       "      <td>15</td>\n",
       "      <td>81</td>\n",
       "    </tr>\n",
       "    <tr>\n",
       "      <th>2</th>\n",
       "      <td>3</td>\n",
       "      <td>Female</td>\n",
       "      <td>20</td>\n",
       "      <td>16</td>\n",
       "      <td>6</td>\n",
       "    </tr>\n",
       "    <tr>\n",
       "      <th>3</th>\n",
       "      <td>4</td>\n",
       "      <td>Female</td>\n",
       "      <td>23</td>\n",
       "      <td>16</td>\n",
       "      <td>77</td>\n",
       "    </tr>\n",
       "    <tr>\n",
       "      <th>4</th>\n",
       "      <td>5</td>\n",
       "      <td>Female</td>\n",
       "      <td>31</td>\n",
       "      <td>17</td>\n",
       "      <td>40</td>\n",
       "    </tr>\n",
       "  </tbody>\n",
       "</table>\n",
       "</div>"
      ],
      "text/plain": [
       "   CustomerID  Gender  Age  Annual Income (k$)  Spending Score (1-100)\n",
       "0           1    Male   19                  15                      39\n",
       "1           2    Male   21                  15                      81\n",
       "2           3  Female   20                  16                       6\n",
       "3           4  Female   23                  16                      77\n",
       "4           5  Female   31                  17                      40"
      ]
     },
     "execution_count": 1,
     "metadata": {},
     "output_type": "execute_result"
    }
   ],
   "source": [
    "import pandas as pd\n",
    "df = pd.read_csv('data/Mall_Customers.csv')\n",
    "\n",
    "df.head()"
   ]
  },
  {
   "cell_type": "markdown",
   "id": "9d1adaf7-d72a-449e-82b9-278dd48ee692",
   "metadata": {},
   "source": [
    "### Data Preprocessing"
   ]
  },
  {
   "cell_type": "code",
   "execution_count": null,
   "id": "6778cf37-383b-4d0f-a266-ab87ffe7abea",
   "metadata": {},
   "outputs": [],
   "source": []
  }
 ],
 "metadata": {
  "kernelspec": {
   "display_name": "Python 3 (ipykernel)",
   "language": "python",
   "name": "python3"
  },
  "language_info": {
   "codemirror_mode": {
    "name": "ipython",
    "version": 3
   },
   "file_extension": ".py",
   "mimetype": "text/x-python",
   "name": "python",
   "nbconvert_exporter": "python",
   "pygments_lexer": "ipython3",
   "version": "3.8.5"
  }
 },
 "nbformat": 4,
 "nbformat_minor": 5
}
