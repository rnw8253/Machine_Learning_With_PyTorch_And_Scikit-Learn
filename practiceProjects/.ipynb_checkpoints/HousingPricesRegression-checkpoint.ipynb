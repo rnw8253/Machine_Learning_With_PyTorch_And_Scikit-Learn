{
 "cells": [
  {
   "cell_type": "markdown",
   "id": "3f526ad2-c89f-4228-996a-faf18724b5ac",
   "metadata": {},
   "source": [
    "# Project 2: Regression - Predicting House Prices"
   ]
  },
  {
   "cell_type": "markdown",
   "id": "1af0d904-e174-43a9-b58f-d8ac3ecc64d5",
   "metadata": {},
   "source": [
    "## Dataset: "
   ]
  },
  {
   "cell_type": "markdown",
   "id": "fd9c87af-c313-4097-9698-43140f515cad",
   "metadata": {},
   "source": [
    "House Prices: Advanced Regression Techniques (available from Kaggle)"
   ]
  },
  {
   "cell_type": "markdown",
   "id": "826acd65-daae-4369-a7c0-48238cc62980",
   "metadata": {},
   "source": [
    "## Analysis Goals:"
   ]
  },
  {
   "cell_type": "markdown",
   "id": "5fe529e3-c5af-4648-8b61-3c06b1ebfc06",
   "metadata": {},
   "source": [
    "1. Load and preprocess the House Prices dataset.\n",
    "2. Split the dataset into training and testing sets.\n",
    "3. Train multiple regression models:\n",
    "    1. Linear Regression\n",
    "    2. Ridge Regression\n",
    "    3. Lasso Regression\n",
    "    4. Random Forest Regression\n",
    "4. Tune hyperparameters using techniques like GridSearchCV or RandomizedSearchCV.\n",
    "5. Compare the performance of models using metrics like Mean Squared Error (MSE), Root Mean Squared Error (RMSE), and R-squared.\n",
    "6. Visualize the relationship between significant features and the target variable."
   ]
  },
  {
   "cell_type": "markdown",
   "id": "484f996b-9a74-4c6d-bf79-3c5f3b2fa113",
   "metadata": {},
   "source": [
    "## Analysis"
   ]
  },
  {
   "cell_type": "markdown",
   "id": "bbc62694-0819-4d23-bf5e-31523660b112",
   "metadata": {},
   "source": [
    "### Load Data"
   ]
  },
  {
   "cell_type": "markdown",
   "id": "c7dfd6db-da9c-4375-ad33-284df0d4c093",
   "metadata": {},
   "source": [
    "| Variable Name | Role     | Type        | Demographic                                       | Description                                            | Units | Missing Values |\n",
    "|---------------|----------|-------------|---------------------------------------------------|--------------------------------------------------------|-------|----------------|\n",
    "| age           | Feature  | Integer     | Age                                               |                                                        | years | no             |\n",
    "| sex           | Feature  | Categorical | Sex                                               |                                                        |       | no             |\n",
    "| cp            | Feature  | Categorical | Chest pain type                                  |                                                        |       | no             |\n",
    "| trestbps      | Feature  | Integer     | Resting blood pressure                           | On admission to the hospital                           | mm Hg | no             |\n",
    "| chol          | Feature  | Integer     | Serum cholestoral                                |                                                        | mg/dl | no             |\n",
    "| fbs           | Feature  | Categorical | Fasting blood sugar                              | Fasting blood sugar > 120 mg/dl                        |       | no             |\n",
    "| restecg       | Feature  | Categorical | Resting electrocardiographic results             |                                                        |       | no             |\n",
    "| thalach       | Feature  | Integer     | Maximum heart rate achieved                      |                                                        |       | no             |\n",
    "| exang         | Feature  | Categorical | Exercise induced angina                          |                                                        |       | no             |\n",
    "| oldpeak       | Feature  | Integer     | ST depression induced by exercise relative to rest|                                                        |       | no             |\n",
    "| slope         | Feature  | Categorical | The slope of the peak exercise ST segment        |                                                        |       | no             |\n",
    "| ca            | Feature  | Integer     | Number of major vessels (0-3) colored by flourosopy|                                                      |       | yes            |\n",
    "| thal          | Feature  | Categorical | Thal                                              |                                                        |       | yes            |\n",
    "| num           | Target   | Integer     | Diagnosis of heart disease                       |                                                        |       | no             |\n"
   ]
  },
  {
   "cell_type": "code",
   "execution_count": 4,
   "id": "33d4d6c4-be91-4b8a-975d-344279dc4030",
   "metadata": {},
   "outputs": [
    {
     "data": {
      "text/html": [
       "<div>\n",
       "<style scoped>\n",
       "    .dataframe tbody tr th:only-of-type {\n",
       "        vertical-align: middle;\n",
       "    }\n",
       "\n",
       "    .dataframe tbody tr th {\n",
       "        vertical-align: top;\n",
       "    }\n",
       "\n",
       "    .dataframe thead th {\n",
       "        text-align: right;\n",
       "    }\n",
       "</style>\n",
       "<table border=\"1\" class=\"dataframe\">\n",
       "  <thead>\n",
       "    <tr style=\"text-align: right;\">\n",
       "      <th></th>\n",
       "      <th>age</th>\n",
       "      <th>sex</th>\n",
       "      <th>cp</th>\n",
       "      <th>trestbps</th>\n",
       "      <th>chol</th>\n",
       "      <th>fbs</th>\n",
       "      <th>restecg</th>\n",
       "      <th>thalach</th>\n",
       "      <th>exang</th>\n",
       "      <th>oldpeak</th>\n",
       "      <th>slope</th>\n",
       "      <th>ca</th>\n",
       "      <th>thal</th>\n",
       "    </tr>\n",
       "  </thead>\n",
       "  <tbody>\n",
       "    <tr>\n",
       "      <th>0</th>\n",
       "      <td>63</td>\n",
       "      <td>1</td>\n",
       "      <td>1</td>\n",
       "      <td>145</td>\n",
       "      <td>233</td>\n",
       "      <td>1</td>\n",
       "      <td>2</td>\n",
       "      <td>150</td>\n",
       "      <td>0</td>\n",
       "      <td>2.3</td>\n",
       "      <td>3</td>\n",
       "      <td>0.0</td>\n",
       "      <td>6.0</td>\n",
       "    </tr>\n",
       "    <tr>\n",
       "      <th>1</th>\n",
       "      <td>67</td>\n",
       "      <td>1</td>\n",
       "      <td>4</td>\n",
       "      <td>160</td>\n",
       "      <td>286</td>\n",
       "      <td>0</td>\n",
       "      <td>2</td>\n",
       "      <td>108</td>\n",
       "      <td>1</td>\n",
       "      <td>1.5</td>\n",
       "      <td>2</td>\n",
       "      <td>3.0</td>\n",
       "      <td>3.0</td>\n",
       "    </tr>\n",
       "    <tr>\n",
       "      <th>2</th>\n",
       "      <td>67</td>\n",
       "      <td>1</td>\n",
       "      <td>4</td>\n",
       "      <td>120</td>\n",
       "      <td>229</td>\n",
       "      <td>0</td>\n",
       "      <td>2</td>\n",
       "      <td>129</td>\n",
       "      <td>1</td>\n",
       "      <td>2.6</td>\n",
       "      <td>2</td>\n",
       "      <td>2.0</td>\n",
       "      <td>7.0</td>\n",
       "    </tr>\n",
       "    <tr>\n",
       "      <th>3</th>\n",
       "      <td>37</td>\n",
       "      <td>1</td>\n",
       "      <td>3</td>\n",
       "      <td>130</td>\n",
       "      <td>250</td>\n",
       "      <td>0</td>\n",
       "      <td>0</td>\n",
       "      <td>187</td>\n",
       "      <td>0</td>\n",
       "      <td>3.5</td>\n",
       "      <td>3</td>\n",
       "      <td>0.0</td>\n",
       "      <td>3.0</td>\n",
       "    </tr>\n",
       "    <tr>\n",
       "      <th>4</th>\n",
       "      <td>41</td>\n",
       "      <td>0</td>\n",
       "      <td>2</td>\n",
       "      <td>130</td>\n",
       "      <td>204</td>\n",
       "      <td>0</td>\n",
       "      <td>2</td>\n",
       "      <td>172</td>\n",
       "      <td>0</td>\n",
       "      <td>1.4</td>\n",
       "      <td>1</td>\n",
       "      <td>0.0</td>\n",
       "      <td>3.0</td>\n",
       "    </tr>\n",
       "  </tbody>\n",
       "</table>\n",
       "</div>"
      ],
      "text/plain": [
       "   age  sex  cp  trestbps  chol  fbs  restecg  thalach  exang  oldpeak  slope  \\\n",
       "0   63    1   1       145   233    1        2      150      0      2.3      3   \n",
       "1   67    1   4       160   286    0        2      108      1      1.5      2   \n",
       "2   67    1   4       120   229    0        2      129      1      2.6      2   \n",
       "3   37    1   3       130   250    0        0      187      0      3.5      3   \n",
       "4   41    0   2       130   204    0        2      172      0      1.4      1   \n",
       "\n",
       "    ca  thal  \n",
       "0  0.0   6.0  \n",
       "1  3.0   3.0  \n",
       "2  2.0   7.0  \n",
       "3  0.0   3.0  \n",
       "4  0.0   3.0  "
      ]
     },
     "execution_count": 4,
     "metadata": {},
     "output_type": "execute_result"
    }
   ],
   "source": [
    "from ucimlrepo import fetch_ucirepo \n",
    "\n",
    "# fetch dataset \n",
    "heart_disease = fetch_ucirepo(id=45) \n",
    "  \n",
    "# data (as pandas dataframes) \n",
    "X = heart_disease.data.features \n",
    "y = heart_disease.data.targets \n",
    "\n",
    "X.head()\n",
    "# metadata \n",
    "#print(heart_disease.metadata) \n",
    "  \n",
    "# variable information \n",
    "#print(heart_disease.variables) "
   ]
  },
  {
   "cell_type": "markdown",
   "id": "9d1adaf7-d72a-449e-82b9-278dd48ee692",
   "metadata": {},
   "source": [
    "### Data Preprocessing"
   ]
  },
  {
   "cell_type": "code",
   "execution_count": null,
   "id": "6778cf37-383b-4d0f-a266-ab87ffe7abea",
   "metadata": {},
   "outputs": [],
   "source": []
  }
 ],
 "metadata": {
  "kernelspec": {
   "display_name": "Python 3 (ipykernel)",
   "language": "python",
   "name": "python3"
  },
  "language_info": {
   "codemirror_mode": {
    "name": "ipython",
    "version": 3
   },
   "file_extension": ".py",
   "mimetype": "text/x-python",
   "name": "python",
   "nbconvert_exporter": "python",
   "pygments_lexer": "ipython3",
   "version": "3.8.5"
  }
 },
 "nbformat": 4,
 "nbformat_minor": 5
}
